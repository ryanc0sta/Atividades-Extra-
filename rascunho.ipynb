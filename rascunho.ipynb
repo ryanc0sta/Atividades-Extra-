{
 "cells": [
  {
   "cell_type": "code",
   "execution_count": 5,
   "metadata": {},
   "outputs": [
    {
     "name": "stdout",
     "output_type": "stream",
     "text": [
      "450\n"
     ]
    }
   ],
   "source": [
    "\"\"\"\n",
    "\n",
    " Exercícios com funções\n",
    "\n",
    " Crie uma função que multiplica todos os argumentos\n",
    " não nomeados recebidos\n",
    " Retorne o total para uma variável e mostre o valor\n",
    " da variável.\n",
    "\n",
    "\"\"\"\n",
    "\n",
    "def multiplicação(*args):\n",
    "    resultado = 1\n",
    "    for numeros in args:\n",
    "        resultado *= numeros\n",
    "    \n",
    "    return resultado\n",
    "\n",
    "\n",
    "total = multiplicação(3, 3, 5, 10)\n",
    "print(total)\n"
   ]
  },
  {
   "cell_type": "code",
   "execution_count": 6,
   "metadata": {},
   "outputs": [
    {
     "data": {
      "text/plain": [
       "'2 é par'"
      ]
     },
     "execution_count": 6,
     "metadata": {},
     "output_type": "execute_result"
    }
   ],
   "source": [
    "\"\"\"\n",
    " Crie uma função que fala se um número é par ou ímpar.\n",
    " Retorne se o número é par ou ímpar.\n",
    " \"\"\"\n",
    "\n",
    "def par_impar(numero):\n",
    "    numero_par_impar = numero % 2 == 0\n",
    "\n",
    "    if numero_par_impar:\n",
    "        return f'{numero} é par'\n",
    "    else:\n",
    "        return f'{numero} é ímpar'\n",
    "    \n",
    "par_impar(2)\n",
    "        \n",
    "\n",
    "\n",
    "\n",
    "\n"
   ]
  },
  {
   "cell_type": "code",
   "execution_count": 7,
   "metadata": {},
   "outputs": [
    {
     "data": {
      "text/plain": [
       "'5 é um número ímpar!'"
      ]
     },
     "execution_count": 7,
     "metadata": {},
     "output_type": "execute_result"
    }
   ],
   "source": [
    "# Exercícios com funções\n",
    "\n",
    "# Crie uma função que multiplica todos os argumentos\n",
    "# não nomeados recebidos\n",
    "# Retorne o total para uma variável e mostre o valor\n",
    "# da variável.\n",
    "\n",
    "def função(*args):\n",
    "    total = 1\n",
    "    for numero in args:\n",
    "        total *= numero \n",
    "    \n",
    "    return(total)\n",
    "\n",
    "função(1, 2, 3)\n",
    "\n",
    "\n",
    "# Crie uma função fala se um número é par ou ímpar.\n",
    "# Retorne se o número é par ou ímpar.\n",
    "\n",
    "def func2(x):\n",
    "    if x % 2 == 0:\n",
    "        return(f\"{x} é um número par!\")\n",
    "    else:\n",
    "        return(f\"{x} é um número ímpar!\")\n",
    "    \n",
    "func2(5)"
   ]
  },
  {
   "cell_type": "code",
   "execution_count": null,
   "metadata": {},
   "outputs": [
    {
     "name": "stdout",
     "output_type": "stream",
     "text": [
      "120\n"
     ]
    }
   ],
   "source": [
    "# Exercícios\n",
    "# Crie funções que duplicam, triplicam e quadruplicam\n",
    "# o número recebido como parâmetro.\n",
    "\n",
    "def criar_multiplos(multiplicador):\n",
    "    def multiplicar(numero):\n",
    "        return numero * multiplicador \n",
    "    \n",
    "    return multiplicar\n",
    "\n",
    "duplicar = criar_multiplos(2)\n",
    "triplicar = criar_multiplos(3)\n",
    "quadruplicar = criar_multiplos(4)\n",
    "\n",
    "\n",
    "\n",
    "\n",
    "\n"
   ]
  },
  {
   "cell_type": "code",
   "execution_count": 22,
   "metadata": {},
   "outputs": [
    {
     "name": "stdout",
     "output_type": "stream",
     "text": [
      "Pergunta:  Qual é  raíz quadrada de 16?\n",
      "0) 8\n",
      "1) 4\n",
      "2) 160\n",
      "3) 2\n",
      "\n",
      "Resposta Correta!\n",
      "\n",
      "Pergunta:  Quanto é 17 vezes 4?\n",
      "0) 68\n",
      "1) 54\n",
      "2) 32\n",
      "3) 81\n",
      "\n",
      "Resposta Correta!\n",
      "\n"
     ]
    }
   ],
   "source": [
    "## Sistema de perguntas e respostas \n",
    "\n",
    "\n",
    "questionário = [\n",
    "    {\n",
    "        'Pergunta': 'Qual é  raíz quadrada de 16?',\n",
    "        'Opções': [8, 4, 160, 2],\n",
    "        'Resposta': 4\n",
    "    },\n",
    "\n",
    "    {\n",
    "        'Pergunta': 'Quanto é 17 vezes 4?',\n",
    "        'Opções': [68, 54, 32, 81],\n",
    "        'Resposta': 68\n",
    "    },\n",
    "]\n",
    "\n",
    "for pergunta in questionário:\n",
    "    print('Pergunta: ', pergunta['Pergunta'])\n",
    "\n",
    "    opções = pergunta['Opções']\n",
    "    qnt_opções = len(opções)\n",
    "\n",
    "    for i, opção in enumerate(pergunta['Opções']):\n",
    "        print(f'{i}) {opção}')\n",
    "    print()\n",
    "\n",
    "    escolha = input('Digite sua resposta: ')\n",
    "\n",
    "    acertou = False\n",
    "    escolha_int = None\n",
    "\n",
    "    if escolha.isdigit():\n",
    "        escolha_int = int(escolha)\n",
    "\n",
    "    if escolha_int is not None and escolha_int in opções:\n",
    "        if escolha_int == pergunta['Resposta']:\n",
    "            acertou = True\n",
    "\n",
    "    if acertou:\n",
    "        print('Resposta Correta!')\n",
    "    else:\n",
    "        print('Resposta incorreta!')\n",
    "\n",
    "    print()\n",
    "\n",
    "\n",
    "\n",
    "\n"
   ]
  }
 ],
 "metadata": {
  "kernelspec": {
   "display_name": "Python 3",
   "language": "python",
   "name": "python3"
  },
  "language_info": {
   "codemirror_mode": {
    "name": "ipython",
    "version": 3
   },
   "file_extension": ".py",
   "mimetype": "text/x-python",
   "name": "python",
   "nbconvert_exporter": "python",
   "pygments_lexer": "ipython3",
   "version": "3.13.1"
  }
 },
 "nbformat": 4,
 "nbformat_minor": 2
}
