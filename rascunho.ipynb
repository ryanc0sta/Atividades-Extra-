{
 "cells": [
  {
   "cell_type": "code",
   "execution_count": 13,
   "metadata": {},
   "outputs": [
    {
     "name": "stdout",
     "output_type": "stream",
     "text": [
      "450\n"
     ]
    }
   ],
   "source": [
    "\"\"\"\n",
    "\n",
    " Exercícios com funções\n",
    "\n",
    " Crie uma função que multiplica todos os argumentos\n",
    " não nomeados recebidos\n",
    " Retorne o total para uma variável e mostre o valor\n",
    " da variável.\n",
    "\n",
    "\"\"\"\n",
    "\n",
    "def multiplicação(*args):\n",
    "    resultado = 1\n",
    "    for numeros in args:\n",
    "        resultado *= numeros\n",
    "    \n",
    "    return resultado\n",
    "\n",
    "\n",
    "total = multiplicação(3, 3, 5, 10)\n",
    "print(total)\n"
   ]
  },
  {
   "cell_type": "code",
   "execution_count": 14,
   "metadata": {},
   "outputs": [
    {
     "data": {
      "text/plain": [
       "'2 é par'"
      ]
     },
     "execution_count": 14,
     "metadata": {},
     "output_type": "execute_result"
    }
   ],
   "source": [
    "\"\"\"\n",
    " Crie uma função que fala se um número é par ou ímpar.\n",
    " Retorne se o número é par ou ímpar.\n",
    " \"\"\"\n",
    "\n",
    "def par_impar(numero):\n",
    "    numero_par_impar = numero % 2 == 0\n",
    "\n",
    "    if numero_par_impar:\n",
    "        return f'{numero} é par'\n",
    "    else:\n",
    "        return f'{numero} é ímpar'\n",
    "    \n",
    "par_impar(2)\n",
    "        \n",
    "\n",
    "\n",
    "\n",
    "\n"
   ]
  },
  {
   "cell_type": "code",
   "execution_count": 15,
   "metadata": {},
   "outputs": [
    {
     "data": {
      "text/plain": [
       "'5 é um número ímpar!'"
      ]
     },
     "execution_count": 15,
     "metadata": {},
     "output_type": "execute_result"
    }
   ],
   "source": [
    "# Exercícios com funções\n",
    "\n",
    "# Crie uma função que multiplica todos os argumentos\n",
    "# não nomeados recebidos\n",
    "# Retorne o total para uma variável e mostre o valor\n",
    "# da variável.\n",
    "\n",
    "def função(*args):\n",
    "    total = 1\n",
    "    for numero in args:\n",
    "        total *= numero \n",
    "    \n",
    "    return(total)\n",
    "\n",
    "função(1, 2, 3)\n",
    "\n",
    "\n",
    "# Crie uma função fala se um número é par ou ímpar.\n",
    "# Retorne se o número é par ou ímpar.\n",
    "\n",
    "def func2(x):\n",
    "    if x % 2 == 0:\n",
    "        return(f\"{x} é um número par!\")\n",
    "    else:\n",
    "        return(f\"{x} é um número ímpar!\")\n",
    "    \n",
    "func2(5)"
   ]
  }
 ],
 "metadata": {
  "kernelspec": {
   "display_name": "Python 3",
   "language": "python",
   "name": "python3"
  },
  "language_info": {
   "codemirror_mode": {
    "name": "ipython",
    "version": 3
   },
   "file_extension": ".py",
   "mimetype": "text/x-python",
   "name": "python",
   "nbconvert_exporter": "python",
   "pygments_lexer": "ipython3",
   "version": "3.13.1"
  }
 },
 "nbformat": 4,
 "nbformat_minor": 2
}
